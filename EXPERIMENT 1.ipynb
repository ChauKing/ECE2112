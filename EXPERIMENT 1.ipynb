{
 "cells": [
  {
   "cell_type": "markdown",
   "id": "469b27a3-a278-43b8-a52d-92c05fa314b4",
   "metadata": {},
   "source": [
    "Alphabet Soup Problem"
   ]
  },
  {
   "cell_type": "code",
   "execution_count": 36,
   "id": "b5a19ae6-be31-4f2d-b72c-025dfd605ed6",
   "metadata": {},
   "outputs": [
    {
     "name": "stdout",
     "output_type": "stream",
     "text": [
      "aens\n",
      "ceinntv\n",
      "achu\n"
     ]
    }
   ],
   "source": [
    "def alphabet_soup(string):\n",
    "   \n",
    "    sorted_string = ''.join(sorted(string))\n",
    "    return sorted_string\n",
    "\n",
    "print(alphabet_soup(\"sean\"))  \n",
    "print(alphabet_soup(\"vincent\"))\n",
    "print(alphabet_soup(\"chau\")) "
   ]
  },
  {
   "cell_type": "markdown",
   "id": "e2efad7a-696a-4ff7-9d79-ab259fc9fad1",
   "metadata": {},
   "source": [
    "Emoticon Problem"
   ]
  },
  {
   "cell_type": "code",
   "execution_count": 46,
   "id": "116257d4-4ba2-4a95-9cef-1c9812babde7",
   "metadata": {},
   "outputs": [
    {
     "name": "stdout",
     "output_type": "stream",
     "text": [
      "Make me :)\n",
      "Me is :((\n"
     ]
    }
   ],
   "source": [
    "def emotify(sentence):\n",
    "    \n",
    "    emoticon_map = {\n",
    "        \"smile\": \":)\",\n",
    "        \"grin\": \":D\",\n",
    "        \"sad\": \":(\",\n",
    "        \"mad\": \">:(\"\n",
    "    }\n",
    "    \n",
    "    words = sentence.split()\n",
    "    \n",
    "    result = [emoticon_map[word.lower()] if word.lower() in emoticon_map else word for word in words]\n",
    "    \n",
    "    return \" \".join(result)\n",
    "\n",
    "print(emotify(\"Make me smile\"))\n",
    "print(emotify(\"Me is sad\"))       \n"
   ]
  },
  {
   "cell_type": "markdown",
   "id": "f47ad7da-51ca-47fa-af22-30a69a3846c3",
   "metadata": {},
   "source": [
    "Unpacking Problem"
   ]
  },
  {
   "cell_type": "code",
   "execution_count": 54,
   "id": "4cedc39d-579d-4cb6-89df-6d2dc8cb16a3",
   "metadata": {},
   "outputs": [
    {
     "name": "stdout",
     "output_type": "stream",
     "text": [
      "first: 1 middle: [2, 3, 4, 5] last: 6\n"
     ]
    }
   ],
   "source": [
    "lst = [1, 2, 3, 4, 5, 6]\n",
    "\n",
    "first = lst[0]\n",
    "last = lst[-1]\n",
    "middle = lst[1:-1]\n",
    "\n",
    "print(f\"first: {first} middle: {middle} last: {last}\")\n"
   ]
  },
  {
   "cell_type": "code",
   "execution_count": null,
   "id": "ec4dc36c-a7d4-42a3-a56b-b25c3aad487b",
   "metadata": {},
   "outputs": [],
   "source": []
  }
 ],
 "metadata": {
  "kernelspec": {
   "display_name": "Python 3 (ipykernel)",
   "language": "python",
   "name": "python3"
  },
  "language_info": {
   "codemirror_mode": {
    "name": "ipython",
    "version": 3
   },
   "file_extension": ".py",
   "mimetype": "text/x-python",
   "name": "python",
   "nbconvert_exporter": "python",
   "pygments_lexer": "ipython3",
   "version": "3.12.4"
  }
 },
 "nbformat": 4,
 "nbformat_minor": 5
}
